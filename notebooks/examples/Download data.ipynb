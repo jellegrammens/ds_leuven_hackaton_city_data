{
 "cells": [
  {
   "cell_type": "markdown",
   "metadata": {
    "collapsed": true
   },
   "source": [
    "# Sources\n",
    "Below are a list of sources and their contributors. Thanks contributors! This data should be small enough to play with on a single node server or on a laptop:\n",
    "* Data of the city of Leuven (Mostly GIS): \n",
    "    * https://smartcityleuven.blob.core.windows.net/smartcityleuven/city_data/leuven_city.zip\n",
    "    * https://leuven.incijfers.be/ (Online platform. Find the data you need and download it yourself)\n",
    "* Smart Flanders data (Parking): \n",
    "    * https://smartcityleuven.blob.core.windows.net/smartcityleuven/parking/clean/csv/leuven.csv.zip\n",
    "    * https://smartcityleuven.blob.core.windows.net/smartcityleuven/parking/clean/csv/kortrijk.csv.zip\n",
    "    * https://smartcityleuven.blob.core.windows.net/smartcityleuven/parking/clean/csv/gent.csv.zip\n",
    "    * https://smartcityleuven.blob.core.windows.net/smartcityleuven/parking/clean/csv/sint-niklaas.csv.zip\n",
    "* Leuvenair data (air quality, grassroots initiative): \n",
    "    * https://smartcityleuven.blob.core.windows.net/smartcityleuven/airquality_leuven/leuven.csv.zip\n",
    "* Option data (air quality): \n",
    "    * https://smartcityleuven.blob.core.windows.net/smartcityleuven/option/all.csv.zip\n",
    "    * https://smartcityleuven.blob.core.windows.net/smartcityleuven/option/one_month_per_min.csv.zip\n",
    "    * https://smartcityleuven.blob.core.windows.net/smartcityleuven/option/one_year_per_hour.csv.zip\n",
    "* Uit data (events): Mind you this is downloaded from a TEST api. We didn't need a license, but it doesn't contain the latest events. \n",
    "    * https://smartcityleuven.blob.core.windows.net/smartcityleuven/uit/uit.zip\n",
    "\n",
    "# Bigger / more complex data sources\n",
    "We have a few bigger data sources that probably need some more heavy lifting. Can be fun for a big data use case:\n",
    "* Luftdaten.info (air quality). The Leuvenair data is a subset of this dataset. This is for all of Europe. It is split per day and you can download all days from 2016-01-01 to 2018-05-31:\n",
    "    * https://smartcityleuven.blob.core.windows.net/smartcityleuven/airquality/2016-01-01.zip\n",
    "    * https://smartcityleuven.blob.core.windows.net/smartcityleuven/airquality/2016-01-02.zip\n",
    "    * https://smartcityleuven.blob.core.windows.net/smartcityleuven/airquality/2016-01-03.zip    \n",
    "    * ....\n",
    "    * https://smartcityleuven.blob.core.windows.net/smartcityleuven/airquality/2018-05-31.zip   \n",
    "    \n",
    "* Smart city flanders parking data. The parking data is something I turned into a CSV. But its original format is a lot richer. I don't really understand it. But maybe you do. More info here: https://datapiloten.be/parking/\n",
    "    * Datadump: https://smartcityleuven.blob.core.windows.net/smartcityleuven/parking/raw/raw.zip\n",
    "    * Real-time API: \n",
    "        * https://leuven.datapiloten.be/parking\n",
    "        * https://linked.open.gent/parking\n",
    "        * https://kortrijk.datapiloten.be/parking\n",
    "        * https://sint-niklaas.datapiloten.be/parking"
   ]
  },
  {
   "cell_type": "code",
   "execution_count": null,
   "metadata": {},
   "outputs": [],
   "source": []
  }
 ],
 "metadata": {
  "kernelspec": {
   "display_name": "Python 3.6",
   "language": "python",
   "name": "python36"
  },
  "language_info": {
   "codemirror_mode": {
    "name": "ipython",
    "version": 3
   },
   "file_extension": ".py",
   "mimetype": "text/x-python",
   "name": "python",
   "nbconvert_exporter": "python",
   "pygments_lexer": "ipython3",
   "version": "3.6.3"
  }
 },
 "nbformat": 4,
 "nbformat_minor": 2
}
