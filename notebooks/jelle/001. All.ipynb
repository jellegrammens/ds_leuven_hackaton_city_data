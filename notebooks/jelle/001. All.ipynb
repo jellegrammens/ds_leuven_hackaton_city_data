{
 "cells": [
  {
   "cell_type": "markdown",
   "metadata": {},
   "source": [
    "# Looking at air quality in Leuven to help outside athletes: runners and cyclists"
   ]
  },
  {
   "cell_type": "markdown",
   "metadata": {},
   "source": [
    "** Problem definition: **\n",
    "- 1: What are the dangers of air polution for outdoor athletes / people in general?\n",
    "- 2: Where do outside athletes run and cycle in and near Leuven?\n",
    "- 3: Does air polution change across time and place? \n",
    "- 4: If so: can we make athletes aware of the air polution dangers and help them in scheduling their runs at different times or places?\n",
    "- 5: How much air polution do outdoor athletes receive from doing sports in and around Leuven? "
   ]
  },
  {
   "cell_type": "markdown",
   "metadata": {},
   "source": [
    "# 1. What are the dangers of air polution for outdoor athletes / people in general?"
   ]
  },
  {
   "cell_type": "markdown",
   "metadata": {},
   "source": [
    "#### ** Health effects **\n",
    "<img src=\"../../pics/1_healtheffects.jpg\" />\n",
    "\n",
    "#### ** Sources of air pollution **\n",
    "<img src=\"../../pics/1_sourcesairpol.jpg\" />\n",
    "\n",
    "Source: https://www.ncbi.nlm.nih.gov/pmc/articles/PMC3155438/"
   ]
  },
  {
   "cell_type": "markdown",
   "metadata": {},
   "source": [
    "#### ** Particular matter is the measure in our air quality dataset. PM2.5 measurements are more accurate than PM10, so we'll use that. What are its sources? **\n",
    "\n",
    "\n",
    "** Sources of PM2.5: **\n",
    "\n",
    "** Human-made sources of PM2.5 are more important than natural sources, which make only a small contribution to the total concentration. ** Within UK towns and cities, emissions of PM2.5 from road vehicles are an important source. Consequently, levels of PM2.5 (and population exposure) close to roadsides are often much higher than those in background locations. In some places, industrial emissions can also be important, as can the use of non-smokeless fuels for heating and other domestic sources of smoke such as bonfires. Under some meteorological conditions, air polluted with PM2.5 from the continent may circulate over the UK – a condition known as the long range transportation of air pollution. Long range transport, together with pollution from local sources, can result in short term episodes of high pollution which might have an impact on the health on those sensitive to high pollution.\n",
    "\n",
    "Source: https://laqm.defra.gov.uk/public-health/pm25.html\n"
   ]
  },
  {
   "cell_type": "markdown",
   "metadata": {},
   "source": [
    "# 2. Where do outside athletes run and cycle in and near Leuven?"
   ]
  },
  {
   "cell_type": "code",
   "execution_count": 1,
   "metadata": {},
   "outputs": [],
   "source": [
    "# Load libs \n",
    "import os, sys\n",
    "import pandas as pd\n",
    "import numpy as np\n",
    "import datetime\n",
    "\n",
    "# Load data\n",
    "meta = pd.read_csv('../../data/air/leuvenair_meta.csv') \n",
    "df = pd.read_csv('../../data/air/leuvenair.csv', skiprows=1, header = None)\n",
    "column_list = ['date', 'lat', 'lon', 'sensor_id', 'pm2.5', 'pm10', 'dhtid', 'temperature', 'humidity', 'obsid']\n",
    "df.columns = column_list\n",
    "df['date'] = pd.to_datetime(df['date'])\n",
    "\n",
    "\n",
    "#remove outliers that make no sense\n",
    "df = df.loc[df['pm2.5'] < 999]"
   ]
  },
  {
   "cell_type": "code",
   "execution_count": 2,
   "metadata": {},
   "outputs": [
    {
     "data": {
      "text/html": [
       "<div>\n",
       "<style scoped>\n",
       "    .dataframe tbody tr th:only-of-type {\n",
       "        vertical-align: middle;\n",
       "    }\n",
       "\n",
       "    .dataframe tbody tr th {\n",
       "        vertical-align: top;\n",
       "    }\n",
       "\n",
       "    .dataframe thead th {\n",
       "        text-align: right;\n",
       "    }\n",
       "</style>\n",
       "<table border=\"1\" class=\"dataframe\">\n",
       "  <thead>\n",
       "    <tr style=\"text-align: right;\">\n",
       "      <th></th>\n",
       "      <th>date</th>\n",
       "      <th>lat</th>\n",
       "      <th>lon</th>\n",
       "      <th>sensor_id</th>\n",
       "      <th>pm2.5</th>\n",
       "      <th>pm10</th>\n",
       "      <th>dhtid</th>\n",
       "      <th>temperature</th>\n",
       "      <th>humidity</th>\n",
       "      <th>obsid</th>\n",
       "    </tr>\n",
       "  </thead>\n",
       "  <tbody>\n",
       "    <tr>\n",
       "      <th>1783255</th>\n",
       "      <td>2018-03-26 12:35:32</td>\n",
       "      <td>50.88939</td>\n",
       "      <td>4.7311</td>\n",
       "      <td>9635</td>\n",
       "      <td>6.53</td>\n",
       "      <td>10.93</td>\n",
       "      <td>9636.0</td>\n",
       "      <td>23.0</td>\n",
       "      <td>20.6</td>\n",
       "      <td>1891586</td>\n",
       "    </tr>\n",
       "    <tr>\n",
       "      <th>3288969</th>\n",
       "      <td>2018-04-28 09:45:50</td>\n",
       "      <td>50.86678</td>\n",
       "      <td>4.7105</td>\n",
       "      <td>9637</td>\n",
       "      <td>2.80</td>\n",
       "      <td>3.93</td>\n",
       "      <td>9638.0</td>\n",
       "      <td>15.7</td>\n",
       "      <td>80.2</td>\n",
       "      <td>3435759</td>\n",
       "    </tr>\n",
       "    <tr>\n",
       "      <th>3942445</th>\n",
       "      <td>2018-05-11 15:06:29</td>\n",
       "      <td>50.90098</td>\n",
       "      <td>4.6726</td>\n",
       "      <td>9801</td>\n",
       "      <td>7.80</td>\n",
       "      <td>11.03</td>\n",
       "      <td>9802.0</td>\n",
       "      <td>24.6</td>\n",
       "      <td>60.4</td>\n",
       "      <td>4104947</td>\n",
       "    </tr>\n",
       "    <tr>\n",
       "      <th>2425453</th>\n",
       "      <td>2018-04-09 20:48:04</td>\n",
       "      <td>50.86919</td>\n",
       "      <td>4.7067</td>\n",
       "      <td>8807</td>\n",
       "      <td>37.83</td>\n",
       "      <td>60.20</td>\n",
       "      <td>8808.0</td>\n",
       "      <td>16.3</td>\n",
       "      <td>74.2</td>\n",
       "      <td>2550638</td>\n",
       "    </tr>\n",
       "    <tr>\n",
       "      <th>4554684</th>\n",
       "      <td>2018-05-23 21:56:50</td>\n",
       "      <td>50.85952</td>\n",
       "      <td>4.6474</td>\n",
       "      <td>9559</td>\n",
       "      <td>35.17</td>\n",
       "      <td>38.90</td>\n",
       "      <td>9560.0</td>\n",
       "      <td>17.2</td>\n",
       "      <td>99.9</td>\n",
       "      <td>4717186</td>\n",
       "    </tr>\n",
       "  </tbody>\n",
       "</table>\n",
       "</div>"
      ],
      "text/plain": [
       "                       date       lat     lon  sensor_id  pm2.5   pm10  \\\n",
       "1783255 2018-03-26 12:35:32  50.88939  4.7311       9635   6.53  10.93   \n",
       "3288969 2018-04-28 09:45:50  50.86678  4.7105       9637   2.80   3.93   \n",
       "3942445 2018-05-11 15:06:29  50.90098  4.6726       9801   7.80  11.03   \n",
       "2425453 2018-04-09 20:48:04  50.86919  4.7067       8807  37.83  60.20   \n",
       "4554684 2018-05-23 21:56:50  50.85952  4.6474       9559  35.17  38.90   \n",
       "\n",
       "          dhtid  temperature  humidity    obsid  \n",
       "1783255  9636.0         23.0      20.6  1891586  \n",
       "3288969  9638.0         15.7      80.2  3435759  \n",
       "3942445  9802.0         24.6      60.4  4104947  \n",
       "2425453  8808.0         16.3      74.2  2550638  \n",
       "4554684  9560.0         17.2      99.9  4717186  "
      ]
     },
     "execution_count": 2,
     "metadata": {},
     "output_type": "execute_result"
    }
   ],
   "source": [
    "df.sample(5)"
   ]
  },
  {
   "cell_type": "markdown",
   "metadata": {},
   "source": [
    "## Strava heatmap: Cyclists\n",
    "Strava heatmap from: https://www.strava.com/heatmap#13.45/4.71175/50.87019/blue/all"
   ]
  },
  {
   "cell_type": "markdown",
   "metadata": {},
   "source": [
    "<img src=\"../../pics/strava_bikers.jpg\" />"
   ]
  },
  {
   "cell_type": "markdown",
   "metadata": {},
   "source": [
    "## Strava heatmap for runners"
   ]
  },
  {
   "cell_type": "markdown",
   "metadata": {},
   "source": [
    "<img src=\"../../pics/strava_runners.jpg\" />"
   ]
  },
  {
   "cell_type": "code",
   "execution_count": 3,
   "metadata": {},
   "outputs": [],
   "source": [
    "#areas of interest: sensors nearby\n",
    "kessel_lo = [9643, 8789, 12609, 6561, 8803, 9587, 8789, 8835, 11201, 8833, 8779, 9635, 8801]\n",
    "vaartkom = [8829, 8809, 9569]\n",
    "abdij_vh_park = [8839, 9567, 9637, 12855]\n",
    "arenbergpark = [12505, 9561, 10739, 8769, 9609, 9583]\n",
    "stad = [8821, 9825, 9605, 9591, 8837, 11529, 8993]\n",
    "\n",
    "clusters = [kessel_lo, vaartkom, abdij_vh_park, arenbergpark, stad]"
   ]
  },
  {
   "cell_type": "markdown",
   "metadata": {},
   "source": [
    "<img src=\"../../pics/strava_runners_clusters.jpg\" />"
   ]
  },
  {
   "cell_type": "markdown",
   "metadata": {},
   "source": [
    "## How many sensors do we have around these clusters?"
   ]
  },
  {
   "cell_type": "markdown",
   "metadata": {},
   "source": [
    "#### ** Arenbergpark **\n",
    "\n",
    "<img src=\"../../pics/sensors_arenberg.jpg\" />"
   ]
  },
  {
   "cell_type": "markdown",
   "metadata": {},
   "source": [
    "#### ** City **\n",
    "\n",
    "<img src=\"../../pics/sensors_city.jpg\" />"
   ]
  },
  {
   "cell_type": "markdown",
   "metadata": {},
   "source": [
    "#### ** Kessel Lo: Provinciedomein and Heuvelhof  **\n",
    "\n",
    "<img src=\"../../pics/sensors_kessel_lo.jpg\" />"
   ]
  },
  {
   "cell_type": "markdown",
   "metadata": {},
   "source": [
    "#### ** Vaartkom **\n",
    "\n",
    "<img src=\"../../pics/sensors_vaartkom.jpg\" />"
   ]
  },
  {
   "cell_type": "markdown",
   "metadata": {},
   "source": [
    "#### ** Abdij VH park **\n",
    "\n",
    "<img src=\"../../pics/sensors_abdijvhpark.jpg\" />"
   ]
  },
  {
   "cell_type": "markdown",
   "metadata": {},
   "source": [
    "## How much data do we have?"
   ]
  },
  {
   "cell_type": "code",
   "execution_count": 4,
   "metadata": {},
   "outputs": [
    {
     "name": "stdout",
     "output_type": "stream",
     "text": [
      "kessel_lo\n",
      "700761  total datapoints\n",
      "vaartkom\n",
      "151119  total datapoints\n",
      "abdij_vh_park\n",
      "207769  total datapoints\n",
      "arenbergpark\n",
      "248945  total datapoints\n",
      "stad\n",
      "387103  total datapoints\n"
     ]
    }
   ],
   "source": [
    "#check datapoints\n",
    "for i, cluster in enumerate(clusters):\n",
    "    print(['kessel_lo', 'vaartkom', 'abdij_vh_park', 'arenbergpark', 'stad'][i])\n",
    "    print(df.loc[df['sensor_id'].isin(cluster), 'sensor_id'].value_counts().sum(), ' total datapoints')"
   ]
  },
  {
   "cell_type": "code",
   "execution_count": 5,
   "metadata": {},
   "outputs": [
    {
     "name": "stdout",
     "output_type": "stream",
     "text": [
      "kessel_lo\n",
      "sensor:  9643\n",
      "2018-02-20 22:20:20\n",
      "sensor:  8789\n",
      "2018-02-02 15:26:18\n",
      "sensor:  12609\n",
      "2018-04-23 17:13:06\n",
      "sensor:  6561\n",
      "2018-01-30 00:00:27\n",
      "sensor:  8803\n",
      "2018-02-01 21:42:04\n",
      "sensor:  9587\n",
      "2018-03-12 18:46:15\n",
      "sensor:  8789\n",
      "2018-02-02 15:26:18\n",
      "sensor:  8835\n",
      "2018-02-01 21:41:53\n",
      "sensor:  11201\n",
      "2018-03-20 19:57:22\n",
      "sensor:  8833\n",
      "2018-02-03 07:32:32\n",
      "sensor:  8779\n",
      "2018-02-13 16:26:06\n",
      "sensor:  9635\n",
      "2018-02-09 08:54:55\n",
      "sensor:  8801\n",
      "2018-02-25 21:45:55\n",
      "vaartkom\n",
      "sensor:  8829\n",
      "2018-02-06 22:19:03\n",
      "sensor:  8809\n",
      "2018-02-07 15:57:09\n",
      "sensor:  9569\n",
      "2018-04-15 14:24:13\n",
      "abdij_vh_park\n",
      "sensor:  8839\n",
      "2018-01-31 14:47:33\n",
      "sensor:  9567\n",
      "2018-02-14 17:30:10\n",
      "sensor:  9637\n",
      "2018-02-08 09:08:25\n",
      "sensor:  12855\n",
      "2018-05-01 10:11:03\n",
      "arenbergpark\n",
      "sensor:  12505\n",
      "2018-04-20 14:12:47\n",
      "sensor:  9561\n",
      "2018-02-08 18:27:16\n",
      "sensor:  10739\n",
      "2018-05-14 09:44:08\n",
      "sensor:  8769\n",
      "2018-04-22 11:15:17\n",
      "sensor:  9609\n",
      "2018-02-11 18:47:43\n",
      "sensor:  9583\n",
      "2018-03-12 20:20:52\n",
      "stad\n",
      "sensor:  8821\n",
      "2018-02-16 16:55:24\n",
      "sensor:  9825\n",
      "2018-02-12 10:33:55\n",
      "sensor:  9605\n",
      "2018-02-16 23:47:54\n",
      "sensor:  9591\n",
      "2018-05-05 12:36:26\n",
      "sensor:  8837\n",
      "2018-02-01 21:42:52\n",
      "sensor:  11529\n",
      "2018-03-26 20:02:00\n",
      "sensor:  8993\n",
      "2018-01-30 00:02:12\n"
     ]
    }
   ],
   "source": [
    "for i, cluster in enumerate(clusters):\n",
    "    print(['kessel_lo', 'vaartkom', 'abdij_vh_park', 'arenbergpark', 'stad'][i])\n",
    "    for sensor in cluster:\n",
    "        print('sensor: ', sensor)\n",
    "        print(df.loc[(df['sensor_id'] == sensor)].date.min())"
   ]
  },
  {
   "cell_type": "markdown",
   "metadata": {},
   "source": [
    "# 3. Does air polution change across time and place? "
   ]
  },
  {
   "cell_type": "markdown",
   "metadata": {},
   "source": [
    "## 3.1 Time"
   ]
  },
  {
   "cell_type": "code",
   "execution_count": 6,
   "metadata": {},
   "outputs": [],
   "source": [
    "df['year'] = df.date.dt.year\n",
    "df['month'] = df.date.dt.month\n",
    "df['day'] = df.date.dt.day\n",
    "df['hour'] = df.date.dt.hour\n",
    "df['weekday'] = df.date.dt.weekday"
   ]
  },
  {
   "cell_type": "code",
   "execution_count": 7,
   "metadata": {},
   "outputs": [],
   "source": [
    "import seaborn as sns"
   ]
  },
  {
   "cell_type": "code",
   "execution_count": 8,
   "metadata": {},
   "outputs": [
    {
     "data": {
      "text/plain": [
       "month\n",
       "1     6.944987\n",
       "2    14.570615\n",
       "3    14.463531\n",
       "4    14.561399\n",
       "5    14.143205\n",
       "6    22.561510\n",
       "Name: pm2.5, dtype: float64"
      ]
     },
     "execution_count": 8,
     "metadata": {},
     "output_type": "execute_result"
    }
   ],
   "source": [
    "df.groupby(['month'])['pm2.5'].mean()"
   ]
  },
  {
   "cell_type": "code",
   "execution_count": 9,
   "metadata": {},
   "outputs": [
    {
     "data": {
      "text/plain": [
       "hour\n",
       "0     18.245539\n",
       "1     19.121901\n",
       "2     20.191242\n",
       "3     20.285520\n",
       "4     20.647259\n",
       "5     20.296393\n",
       "6     19.004245\n",
       "7     17.846040\n",
       "8     16.459357\n",
       "9     15.047517\n",
       "10    13.311878\n",
       "11    11.682717\n",
       "12    10.842508\n",
       "13    10.288964\n",
       "14     9.622501\n",
       "15     9.388094\n",
       "16     9.615212\n",
       "17    10.179745\n",
       "18    11.290581\n",
       "19    12.689340\n",
       "20    14.125103\n",
       "21    15.412332\n",
       "22    16.503327\n",
       "23    17.263004\n",
       "Name: pm2.5, dtype: float64"
      ]
     },
     "execution_count": 9,
     "metadata": {},
     "output_type": "execute_result"
    }
   ],
   "source": [
    "df.groupby(['hour'])['pm2.5'].mean()"
   ]
  },
  {
   "cell_type": "code",
   "execution_count": 10,
   "metadata": {},
   "outputs": [
    {
     "data": {
      "image/png": "[encoded data removed]",
      "text/plain": [
       "<Figure size 432x288 with 1 Axes>"
      ]
     },
     "metadata": {},
     "output_type": "display_data"
    }
   ],
   "source": [
    "month_hour_df = df.groupby(['month', 'hour'])['pm2.5'].mean().reset_index()\n",
    "sns.barplot(x = month_hour_df['month'], y = month_hour_df['pm2.5'], hue = month_hour_df['hour']).legend_.remove()"
   ]
  },
  {
   "cell_type": "markdown",
   "metadata": {},
   "source": [
    "Pollution seems to be the lowest during daytime: 10AM - 6PM. Are these numbers reliable? Check options data to verify"
   ]
  },
  {
   "cell_type": "code",
   "execution_count": 11,
   "metadata": {},
   "outputs": [],
   "source": [
    "# read in option data to verify\n",
    "option = pd.read_csv('../../data/air/optionair.csv') \n",
    "option = option.loc[option['time'] != 'time']\n",
    "option['time'] = option['time'].astype(int)\n",
    "option['time'] = pd.to_datetime(option['time'], unit='ns')\n",
    "\n",
    "option['year'] = option.time.dt.year\n",
    "option['month'] = option.time.dt.month\n",
    "option['day'] = option.time.dt.day\n",
    "option['hour'] = option.time.dt.hour\n",
    "option['weekday'] = option.time.dt.weekday"
   ]
  },
  {
   "cell_type": "code",
   "execution_count": 12,
   "metadata": {},
   "outputs": [
    {
     "data": {
      "text/plain": [
       "0.17098055138421248"
      ]
     },
     "execution_count": 12,
     "metadata": {},
     "output_type": "execute_result"
    }
   ],
   "source": [
    "option.part_2_5.isnull().sum() / len(option)"
   ]
  },
  {
   "cell_type": "code",
   "execution_count": 13,
   "metadata": {},
   "outputs": [],
   "source": [
    "option.part_2_5 = option.part_2_5.fillna(0)\n",
    "option.part_2_5 = option.part_2_5.astype(float)"
   ]
  },
  {
   "cell_type": "code",
   "execution_count": 14,
   "metadata": {},
   "outputs": [
    {
     "data": {
      "image/png": "[encoded data removed]",
      "text/plain": [
       "<Figure size 432x288 with 1 Axes>"
      ]
     },
     "metadata": {},
     "output_type": "display_data"
    }
   ],
   "source": [
    "#month_hour_df_option = option.groupby(['month', 'hour'])['part_2_5'].mean().reset_index()\n",
    "#sns.barplot(x = month_hour_df_option['month'], y = month_hour_df_option['part_2_5'], hue = month_hour_df_option['hour']).legend_.remove()\n",
    "\n",
    "option_nozero = option.loc[(option.time.dt.year == 2018) & (option.part_2_5 != 0)]\n",
    "month_hour_df_option = option_nozero.groupby(['month', 'hour'])['part_2_5'].mean().reset_index()\n",
    "sns.barplot(x = month_hour_df_option['month'], y = month_hour_df_option['part_2_5'], hue = month_hour_df_option['hour']).legend_.remove()"
   ]
  },
  {
   "cell_type": "markdown",
   "metadata": {},
   "source": [
    "## 3.2 Place"
   ]
  },
  {
   "cell_type": "code",
   "execution_count": 15,
   "metadata": {},
   "outputs": [],
   "source": [
    "def apply_cluster(x):\n",
    "    k = -1\n",
    "    for i, cluster in enumerate(clusters):\n",
    "        if x in cluster:\n",
    "            k = i\n",
    "    \n",
    "    return k"
   ]
  },
  {
   "cell_type": "code",
   "execution_count": 16,
   "metadata": {},
   "outputs": [],
   "source": [
    "df['cluster'] = df['sensor_id'].apply(lambda x: apply_cluster(x))"
   ]
  },
  {
   "cell_type": "code",
   "execution_count": 17,
   "metadata": {},
   "outputs": [
    {
     "data": {
      "image/png": "[encoded data removed]",
      "text/plain": [
       "<Figure size 432x288 with 1 Axes>"
      ]
     },
     "metadata": {},
     "output_type": "display_data"
    }
   ],
   "source": [
    "cluster_month_df = df.groupby(['cluster', 'month'])['pm2.5'].mean().reset_index()\n",
    "sns.barplot(x = cluster_month_df['cluster'], y = cluster_month_df['pm2.5'], hue = cluster_month_df['month']).legend_.remove()"
   ]
  },
  {
   "cell_type": "code",
   "execution_count": 18,
   "metadata": {},
   "outputs": [
    {
     "data": {
      "image/png": "[encoded data removed]",
      "text/plain": [
       "<Figure size 432x288 with 1 Axes>"
      ]
     },
     "metadata": {},
     "output_type": "display_data"
    }
   ],
   "source": [
    "cluster_month_df = df.groupby(['cluster', 'hour'])['pm2.5'].mean().reset_index()\n",
    "sns.barplot(x = cluster_month_df['cluster'], y = cluster_month_df['pm2.5'], hue = cluster_month_df['hour']).legend_.remove()"
   ]
  },
  {
   "cell_type": "code",
   "execution_count": 19,
   "metadata": {},
   "outputs": [
    {
     "data": {
      "text/plain": [
       "<matplotlib.axes._subplots.AxesSubplot at 0x7f9450ac3c50>"
      ]
     },
     "execution_count": 19,
     "metadata": {},
     "output_type": "execute_result"
    },
    {
     "data": {
      "image/png": "[encoded data removed]",
      "text/plain": [
       "<Figure size 432x288 with 1 Axes>"
      ]
     },
     "metadata": {},
     "output_type": "display_data"
    }
   ],
   "source": [
    "sns.boxplot(x = df['hour'], y = df['pm2.5'])"
   ]
  },
  {
   "cell_type": "code",
   "execution_count": 20,
   "metadata": {},
   "outputs": [
    {
     "data": {
      "text/plain": [
       "<matplotlib.axes._subplots.AxesSubplot at 0x7f944f939f60>"
      ]
     },
     "execution_count": 20,
     "metadata": {},
     "output_type": "execute_result"
    },
    {
     "data": {
      "image/png": "[encoded data removed]",
      "text/plain": [
       "<Figure size 432x288 with 1 Axes>"
      ]
     },
     "metadata": {},
     "output_type": "display_data"
    }
   ],
   "source": [
    "sns.boxplot(x = df['month'], y = df['pm2.5'])"
   ]
  },
  {
   "cell_type": "code",
   "execution_count": 21,
   "metadata": {},
   "outputs": [
    {
     "data": {
      "text/plain": [
       "(0, 100)"
      ]
     },
     "execution_count": 21,
     "metadata": {},
     "output_type": "execute_result"
    },
    {
     "data": {
      "image/png": "[encoded data removed]",
      "text/plain": [
       "<Figure size 432x288 with 1 Axes>"
      ]
     },
     "metadata": {},
     "output_type": "display_data"
    }
   ],
   "source": [
    "sns.boxplot(x = df['month'], y = df['pm2.5']).set_ylim([0, 100]) "
   ]
  },
  {
   "cell_type": "code",
   "execution_count": 22,
   "metadata": {},
   "outputs": [
    {
     "data": {
      "text/plain": [
       "(0, 100)"
      ]
     },
     "execution_count": 22,
     "metadata": {},
     "output_type": "execute_result"
    },
    {
     "data": {
      "image/png": "[encoded data removed]",
      "text/plain": [
       "<Figure size 432x288 with 1 Axes>"
      ]
     },
     "metadata": {},
     "output_type": "display_data"
    }
   ],
   "source": [
    "sns.boxplot(x = df['hour'], y = df['pm2.5']).set_ylim([0, 100]) "
   ]
  },
  {
   "cell_type": "code",
   "execution_count": 23,
   "metadata": {},
   "outputs": [
    {
     "data": {
      "text/plain": [
       "Series([], Name: date, dtype: int64)"
      ]
     },
     "execution_count": 23,
     "metadata": {},
     "output_type": "execute_result"
    }
   ],
   "source": [
    "df.loc[df['pm2.5'] > 999].date.dt.month.value_counts()"
   ]
  },
  {
   "cell_type": "code",
   "execution_count": 24,
   "metadata": {},
   "outputs": [
    {
     "data": {
      "text/plain": [
       "count    4.984109e+06\n",
       "mean     1.574592e+01\n",
       "std      3.989495e+01\n",
       "min     -1.040000e+01\n",
       "25%      6.800000e+00\n",
       "50%      1.280000e+01\n",
       "75%      1.890000e+01\n",
       "max      9.472000e+02\n",
       "Name: temperature, dtype: float64"
      ]
     },
     "execution_count": 24,
     "metadata": {},
     "output_type": "execute_result"
    }
   ],
   "source": [
    "df.temperature.describe()"
   ]
  },
  {
   "cell_type": "code",
   "execution_count": 25,
   "metadata": {},
   "outputs": [
    {
     "data": {
      "text/plain": [
       "Series([], Name: sensor_id, dtype: int64)"
      ]
     },
     "execution_count": 25,
     "metadata": {},
     "output_type": "execute_result"
    }
   ],
   "source": [
    "df.loc[df['pm2.5'] > 999, 'sensor_id']"
   ]
  },
  {
   "cell_type": "markdown",
   "metadata": {},
   "source": [
    "# 4. If so: can we make athletes aware of the air polution dangers and help them in scheduling their runs at different times or places?"
   ]
  },
  {
   "cell_type": "markdown",
   "metadata": {},
   "source": [
    "** Quick thoughts for some app integrations into strava or other cardio apps: **\n",
    "\n",
    "- strava stats on air quality during your run\n",
    "- route recommendations based on historic data\n",
    "- some inbuild metric : \"Air Quality predictions for the next hour\": Perfect / Very good / good / bad / you're gonna die in the next 10 years\n"
   ]
  },
  {
   "cell_type": "markdown",
   "metadata": {},
   "source": [
    "# 5. How much air polution do outdoor athletes receive from doing sports in and around Leuven? "
   ]
  },
  {
   "cell_type": "markdown",
   "metadata": {},
   "source": [
    "<img src=\"../../pics/fakerunner.jpg\" />"
   ]
  },
  {
   "cell_type": "code",
   "execution_count": 73,
   "metadata": {},
   "outputs": [],
   "source": [
    "def calculate_pm25_exposure_run(df, start_time, end_time):\n",
    "\n",
    "    sub_df = df.loc[(df['date'] > start_time) & (df['date'] < end_time)] \n",
    "    mean_dosage = sub_df['pm2.5'].mean()\n",
    "    \n",
    "    return mean_dosage"
   ]
  },
  {
   "cell_type": "code",
   "execution_count": 87,
   "metadata": {},
   "outputs": [
    {
     "data": {
      "text/plain": [
       "21.34650243638332"
      ]
     },
     "execution_count": 87,
     "metadata": {},
     "output_type": "execute_result"
    }
   ],
   "source": [
    "calculate_pm25_exposure_run(df, '2018-04-01 06:00', '2018-04-01 07:00')"
   ]
  },
  {
   "cell_type": "code",
   "execution_count": 91,
   "metadata": {},
   "outputs": [],
   "source": [
    "import gpxpy"
   ]
  },
  {
   "cell_type": "code",
   "execution_count": 92,
   "metadata": {},
   "outputs": [],
   "source": [
    "def parsegpx(f):\n",
    "    #Parse a GPX file into a list of dictoinaries.  \n",
    "    #Each dict is one row of the final dataset\n",
    "    \n",
    "    points2 = []\n",
    "    with open(f, 'r') as gpxfile:\n",
    "        # print f\n",
    "        gpx = gpxpy.parse(gpxfile)\n",
    "        for track in gpx.tracks:\n",
    "            for segment in track.segments:\n",
    "                for point in segment.points:\n",
    "                    dict = {'Timestamp' : point.time,\n",
    "                            'Latitude' : point.latitude,\n",
    "                            'Longitude' : point.longitude,\n",
    "                            'Elevation' : point.elevation\n",
    "                            }\n",
    "                    points2.append(dict)\n",
    "    return points2   "
   ]
  },
  {
   "cell_type": "code",
   "execution_count": 96,
   "metadata": {},
   "outputs": [],
   "source": [
    "gpx_lst = parsegpx('../../data/gpx/ring-FakeRunner.gpx')"
   ]
  },
  {
   "cell_type": "code",
   "execution_count": 99,
   "metadata": {},
   "outputs": [],
   "source": [
    "gpx_df = pd.DataFrame(gpx_lst)"
   ]
  },
  {
   "cell_type": "code",
   "execution_count": 101,
   "metadata": {},
   "outputs": [
    {
     "name": "stdout",
     "output_type": "stream",
     "text": [
      "{'lat': 39.7612992, 'lon': -86.1519681}\n"
     ]
    }
   ],
   "source": [
    "from math import cos, asin, sqrt\n",
    "\n",
    "def distance(lat1, lon1, lat2, lon2):\n",
    "    p = 0.017453292519943295\n",
    "    a = 0.5 - cos((lat2-lat1)*p)/2 + cos(lat1*p)*cos(lat2*p) * (1-cos((lon2-lon1)*p)) / 2\n",
    "    return 12742 * asin(sqrt(a))\n",
    "\n",
    "def closest(data, v):\n",
    "    return min(data, key=lambda p: distance(v['lat'],v['lon'],p['lat'],p['lon']))\n",
    "\n",
    "#print(closest(tempDataList, v))"
   ]
  },
  {
   "cell_type": "code",
   "execution_count": 107,
   "metadata": {},
   "outputs": [],
   "source": [
    "sensor_df = df.groupby('sensor_id').last().reset_index()[['sensor_id', 'lat', 'lon']]"
   ]
  },
  {
   "cell_type": "code",
   "execution_count": 115,
   "metadata": {},
   "outputs": [],
   "source": [
    "dct = sensor_df.T.to_dict().values()"
   ]
  },
  {
   "cell_type": "code",
   "execution_count": 131,
   "metadata": {},
   "outputs": [
    {
     "name": "stdout",
     "output_type": "stream",
     "text": [
      "{'sensor_id': 6561.0, 'lat': 50.889959999999995, 'lon': 4.7214}\n"
     ]
    }
   ],
   "source": [
    "print(closest(dct, v))"
   ]
  },
  {
   "cell_type": "code",
   "execution_count": 130,
   "metadata": {},
   "outputs": [],
   "source": [
    "v = {'lat': 50.889, 'lon': 4.7214}"
   ]
  },
  {
   "cell_type": "code",
   "execution_count": 145,
   "metadata": {},
   "outputs": [],
   "source": [
    "def get_polution(x):\n",
    "    v = {'lat': x['Latitude'], 'lon': x['Longitude']}\n",
    "    return closest(dct, v)['sensor_id']\n",
    "    \n",
    "    "
   ]
  },
  {
   "cell_type": "code",
   "execution_count": 148,
   "metadata": {},
   "outputs": [],
   "source": [
    "df = df.set_index(df['date'])"
   ]
  },
  {
   "cell_type": "code",
   "execution_count": 156,
   "metadata": {},
   "outputs": [
    {
     "data": {
      "text/plain": [
       "Timestamp('2018-05-28 20:00:00')"
      ]
     },
     "execution_count": 156,
     "metadata": {},
     "output_type": "execute_result"
    }
   ],
   "source": [
    "gpx_df.iloc[0, 3]"
   ]
  },
  {
   "cell_type": "code",
   "execution_count": 158,
   "metadata": {},
   "outputs": [],
   "source": [
    "test = gpx_df.iloc[0, 3]"
   ]
  },
  {
   "cell_type": "code",
   "execution_count": 167,
   "metadata": {},
   "outputs": [
    {
     "data": {
      "text/plain": [
       "'2018-05-28 20:00:00'"
      ]
     },
     "execution_count": 167,
     "metadata": {},
     "output_type": "execute_result"
    }
   ],
   "source": [
    "test."
   ]
  },
  {
   "cell_type": "code",
   "execution_count": 170,
   "metadata": {},
   "outputs": [
    {
     "data": {
      "text/plain": [
       "'2018-05-28 20:00:00'"
      ]
     },
     "execution_count": 170,
     "metadata": {},
     "output_type": "execute_result"
    }
   ],
   "source": [
    "gpx_df.iloc[0,3].to_pydatetime().strftime(\"%Y-%m-%d %H:%M:%S\")"
   ]
  },
  {
   "cell_type": "code",
   "execution_count": null,
   "metadata": {},
   "outputs": [],
   "source": [
    "df.iloc[df.index.get_loc(dt, method='nearest')]"
   ]
  },
  {
   "cell_type": "code",
   "execution_count": 178,
   "metadata": {},
   "outputs": [
    {
     "name": "stdout",
     "output_type": "stream",
     "text": [
      "2018-05-28 20:00:33\n",
      "5.6\n",
      "2018-05-28 20:00:33\n",
      "5.6\n",
      "2018-05-28 20:00:33\n",
      "5.6\n",
      "2018-05-28 20:00:33\n",
      "5.6\n",
      "2018-05-28 20:00:33\n",
      "5.6\n",
      "2018-05-28 20:00:33\n",
      "5.6\n",
      "2018-05-28 20:00:33\n",
      "5.6\n",
      "2018-05-28 20:00:33\n",
      "5.6\n",
      "2018-05-28 20:00:33\n",
      "5.6\n",
      "2018-05-28 20:00:33\n",
      "5.6\n",
      "2018-05-28 20:00:33\n",
      "5.6\n",
      "2018-05-28 20:00:33\n",
      "5.6\n",
      "2018-05-28 20:00:33\n",
      "5.6\n",
      "2018-05-28 20:00:33\n",
      "5.6\n",
      "2018-05-28 20:00:33\n",
      "5.6\n",
      "2018-05-28 20:00:33\n",
      "5.6\n",
      "2018-05-28 20:00:33\n",
      "5.6\n",
      "2018-05-28 20:00:33\n",
      "5.6\n",
      "2018-05-28 20:00:33\n",
      "5.6\n",
      "2018-05-28 20:00:33\n",
      "5.6\n",
      "2018-05-28 20:00:33\n",
      "5.6\n",
      "2018-05-28 20:00:33\n",
      "5.6\n",
      "2018-05-28 20:00:33\n",
      "5.6\n",
      "2018-05-28 20:00:33\n",
      "5.6\n",
      "2018-05-28 20:00:33\n",
      "5.6\n",
      "2018-05-28 20:00:33\n",
      "5.6\n",
      "2018-05-28 20:00:33\n",
      "5.6\n",
      "2018-05-28 20:00:33\n",
      "5.6\n",
      "2018-05-28 20:00:33\n",
      "5.6\n",
      "2018-05-28 20:00:33\n",
      "5.6\n",
      "2018-05-28 20:00:33\n",
      "5.6\n",
      "2018-05-28 20:00:33\n",
      "5.6\n",
      "2018-05-28 20:00:33\n",
      "5.6\n",
      "2018-05-28 20:00:33\n",
      "5.6\n",
      "2018-05-28 20:00:33\n",
      "5.6\n",
      "2018-05-28 20:00:33\n",
      "5.6\n",
      "2018-05-28 20:00:33\n",
      "5.6\n",
      "2018-05-28 20:00:33\n",
      "5.6\n",
      "2018-05-28 20:00:33\n",
      "5.6\n",
      "2018-05-28 20:00:33\n",
      "5.6\n",
      "2018-05-28 20:00:33\n",
      "5.6\n",
      "2018-05-28 20:00:33\n",
      "5.6\n",
      "2018-05-28 20:00:33\n",
      "5.6\n",
      "2018-05-28 20:00:33\n",
      "5.6\n",
      "2018-05-28 20:00:33\n",
      "5.6\n",
      "2018-05-28 20:00:33\n",
      "5.6\n",
      "2018-05-28 20:00:33\n",
      "5.6\n",
      "2018-05-28 20:00:33\n",
      "5.6\n"
     ]
    },
    {
     "ename": "InvalidIndexError",
     "evalue": "Reindexing only valid with uniquely valued Index objects",
     "output_type": "error",
     "traceback": [
      "\u001b[0;31m---------------------------------------------------------------------------\u001b[0m",
      "\u001b[0;31mInvalidIndexError\u001b[0m                         Traceback (most recent call last)",
      "\u001b[0;32m<ipython-input-178-b0b3d997a90b>\u001b[0m in \u001b[0;36m<module>\u001b[0;34m()\u001b[0m\n\u001b[1;32m      4\u001b[0m     \u001b[0mdf_sub\u001b[0m \u001b[0;34m=\u001b[0m \u001b[0mdf\u001b[0m\u001b[0;34m.\u001b[0m\u001b[0mloc\u001b[0m\u001b[0;34m[\u001b[0m\u001b[0mdf\u001b[0m\u001b[0;34m[\u001b[0m\u001b[0;34m'sensor_id'\u001b[0m\u001b[0;34m]\u001b[0m \u001b[0;34m==\u001b[0m \u001b[0msensor_id\u001b[0m\u001b[0;34m]\u001b[0m\u001b[0;34m\u001b[0m\u001b[0m\n\u001b[1;32m      5\u001b[0m     \u001b[0mts\u001b[0m \u001b[0;34m=\u001b[0m \u001b[0mgpx_df\u001b[0m\u001b[0;34m.\u001b[0m\u001b[0miloc\u001b[0m\u001b[0;34m[\u001b[0m\u001b[0mrow\u001b[0m\u001b[0;34m,\u001b[0m \u001b[0;36m3\u001b[0m\u001b[0;34m]\u001b[0m\u001b[0;34m.\u001b[0m\u001b[0mto_pydatetime\u001b[0m\u001b[0;34m(\u001b[0m\u001b[0;34m)\u001b[0m\u001b[0;34m.\u001b[0m\u001b[0mstrftime\u001b[0m\u001b[0;34m(\u001b[0m\u001b[0;34m\"%Y-%m-%d %H:%M:%S\"\u001b[0m\u001b[0;34m)\u001b[0m\u001b[0;34m\u001b[0m\u001b[0m\n\u001b[0;32m----> 6\u001b[0;31m     \u001b[0mnewrow\u001b[0m \u001b[0;34m=\u001b[0m \u001b[0mdf_sub\u001b[0m\u001b[0;34m.\u001b[0m\u001b[0miloc\u001b[0m\u001b[0;34m[\u001b[0m\u001b[0mdf_sub\u001b[0m\u001b[0;34m.\u001b[0m\u001b[0mindex\u001b[0m\u001b[0;34m.\u001b[0m\u001b[0mget_loc\u001b[0m\u001b[0;34m(\u001b[0m\u001b[0mts\u001b[0m\u001b[0;34m,\u001b[0m \u001b[0mmethod\u001b[0m\u001b[0;34m=\u001b[0m\u001b[0;34m'nearest'\u001b[0m\u001b[0;34m)\u001b[0m\u001b[0;34m]\u001b[0m\u001b[0;34m\u001b[0m\u001b[0m\n\u001b[0m\u001b[1;32m      7\u001b[0m     \u001b[0mprint\u001b[0m\u001b[0;34m(\u001b[0m\u001b[0mnewrow\u001b[0m\u001b[0;34m[\u001b[0m\u001b[0;34m'date'\u001b[0m\u001b[0;34m]\u001b[0m\u001b[0;34m)\u001b[0m\u001b[0;34m\u001b[0m\u001b[0m\n\u001b[1;32m      8\u001b[0m     \u001b[0mprint\u001b[0m\u001b[0;34m(\u001b[0m\u001b[0mnewrow\u001b[0m\u001b[0;34m[\u001b[0m\u001b[0;34m'pm2.5'\u001b[0m\u001b[0;34m]\u001b[0m\u001b[0;34m)\u001b[0m\u001b[0;34m\u001b[0m\u001b[0m\n",
      "\u001b[0;32m~/anaconda2/envs/py3/lib/python3.6/site-packages/pandas/core/indexes/datetimes.py\u001b[0m in \u001b[0;36mget_loc\u001b[0;34m(self, key, method, tolerance)\u001b[0m\n\u001b[1;32m   1611\u001b[0m \u001b[0;34m\u001b[0m\u001b[0m\n\u001b[1;32m   1612\u001b[0m         \u001b[0;32mtry\u001b[0m\u001b[0;34m:\u001b[0m\u001b[0;34m\u001b[0m\u001b[0m\n\u001b[0;32m-> 1613\u001b[0;31m             \u001b[0;32mreturn\u001b[0m \u001b[0mIndex\u001b[0m\u001b[0;34m.\u001b[0m\u001b[0mget_loc\u001b[0m\u001b[0;34m(\u001b[0m\u001b[0mself\u001b[0m\u001b[0;34m,\u001b[0m \u001b[0mkey\u001b[0m\u001b[0;34m,\u001b[0m \u001b[0mmethod\u001b[0m\u001b[0;34m,\u001b[0m \u001b[0mtolerance\u001b[0m\u001b[0;34m)\u001b[0m\u001b[0;34m\u001b[0m\u001b[0m\n\u001b[0m\u001b[1;32m   1614\u001b[0m         \u001b[0;32mexcept\u001b[0m \u001b[0;34m(\u001b[0m\u001b[0mKeyError\u001b[0m\u001b[0;34m,\u001b[0m \u001b[0mValueError\u001b[0m\u001b[0;34m,\u001b[0m \u001b[0mTypeError\u001b[0m\u001b[0;34m)\u001b[0m\u001b[0;34m:\u001b[0m\u001b[0;34m\u001b[0m\u001b[0m\n\u001b[1;32m   1615\u001b[0m             \u001b[0;32mtry\u001b[0m\u001b[0;34m:\u001b[0m\u001b[0;34m\u001b[0m\u001b[0m\n",
      "\u001b[0;32m~/anaconda2/envs/py3/lib/python3.6/site-packages/pandas/core/indexes/base.py\u001b[0m in \u001b[0;36mget_loc\u001b[0;34m(self, key, method, tolerance)\u001b[0m\n\u001b[1;32m   3065\u001b[0m                 \u001b[0;32mreturn\u001b[0m \u001b[0mself\u001b[0m\u001b[0;34m.\u001b[0m\u001b[0m_engine\u001b[0m\u001b[0;34m.\u001b[0m\u001b[0mget_loc\u001b[0m\u001b[0;34m(\u001b[0m\u001b[0mself\u001b[0m\u001b[0;34m.\u001b[0m\u001b[0m_maybe_cast_indexer\u001b[0m\u001b[0;34m(\u001b[0m\u001b[0mkey\u001b[0m\u001b[0;34m)\u001b[0m\u001b[0;34m)\u001b[0m\u001b[0;34m\u001b[0m\u001b[0m\n\u001b[1;32m   3066\u001b[0m \u001b[0;34m\u001b[0m\u001b[0m\n\u001b[0;32m-> 3067\u001b[0;31m         \u001b[0mindexer\u001b[0m \u001b[0;34m=\u001b[0m \u001b[0mself\u001b[0m\u001b[0;34m.\u001b[0m\u001b[0mget_indexer\u001b[0m\u001b[0;34m(\u001b[0m\u001b[0;34m[\u001b[0m\u001b[0mkey\u001b[0m\u001b[0;34m]\u001b[0m\u001b[0;34m,\u001b[0m \u001b[0mmethod\u001b[0m\u001b[0;34m=\u001b[0m\u001b[0mmethod\u001b[0m\u001b[0;34m,\u001b[0m \u001b[0mtolerance\u001b[0m\u001b[0;34m=\u001b[0m\u001b[0mtolerance\u001b[0m\u001b[0;34m)\u001b[0m\u001b[0;34m\u001b[0m\u001b[0m\n\u001b[0m\u001b[1;32m   3068\u001b[0m         \u001b[0;32mif\u001b[0m \u001b[0mindexer\u001b[0m\u001b[0;34m.\u001b[0m\u001b[0mndim\u001b[0m \u001b[0;34m>\u001b[0m \u001b[0;36m1\u001b[0m \u001b[0;32mor\u001b[0m \u001b[0mindexer\u001b[0m\u001b[0;34m.\u001b[0m\u001b[0msize\u001b[0m \u001b[0;34m>\u001b[0m \u001b[0;36m1\u001b[0m\u001b[0;34m:\u001b[0m\u001b[0;34m\u001b[0m\u001b[0m\n\u001b[1;32m   3069\u001b[0m             \u001b[0;32mraise\u001b[0m \u001b[0mTypeError\u001b[0m\u001b[0;34m(\u001b[0m\u001b[0;34m'get_loc requires scalar valued input'\u001b[0m\u001b[0;34m)\u001b[0m\u001b[0;34m\u001b[0m\u001b[0m\n",
      "\u001b[0;32m~/anaconda2/envs/py3/lib/python3.6/site-packages/pandas/core/indexes/base.py\u001b[0m in \u001b[0;36mget_indexer\u001b[0;34m(self, target, method, limit, tolerance)\u001b[0m\n\u001b[1;32m   3224\u001b[0m             \u001b[0mtarget\u001b[0m \u001b[0;34m=\u001b[0m \u001b[0mtarget\u001b[0m\u001b[0;34m.\u001b[0m\u001b[0mastype\u001b[0m\u001b[0;34m(\u001b[0m\u001b[0mobject\u001b[0m\u001b[0;34m)\u001b[0m\u001b[0;34m\u001b[0m\u001b[0m\n\u001b[1;32m   3225\u001b[0m             return this.get_indexer(target, method=method, limit=limit,\n\u001b[0;32m-> 3226\u001b[0;31m                                     tolerance=tolerance)\n\u001b[0m\u001b[1;32m   3227\u001b[0m \u001b[0;34m\u001b[0m\u001b[0m\n\u001b[1;32m   3228\u001b[0m         \u001b[0;32mif\u001b[0m \u001b[0;32mnot\u001b[0m \u001b[0mself\u001b[0m\u001b[0;34m.\u001b[0m\u001b[0mis_unique\u001b[0m\u001b[0;34m:\u001b[0m\u001b[0;34m\u001b[0m\u001b[0m\n",
      "\u001b[0;32m~/anaconda2/envs/py3/lib/python3.6/site-packages/pandas/core/indexes/base.py\u001b[0m in \u001b[0;36mget_indexer\u001b[0;34m(self, target, method, limit, tolerance)\u001b[0m\n\u001b[1;32m   3227\u001b[0m \u001b[0;34m\u001b[0m\u001b[0m\n\u001b[1;32m   3228\u001b[0m         \u001b[0;32mif\u001b[0m \u001b[0;32mnot\u001b[0m \u001b[0mself\u001b[0m\u001b[0;34m.\u001b[0m\u001b[0mis_unique\u001b[0m\u001b[0;34m:\u001b[0m\u001b[0;34m\u001b[0m\u001b[0m\n\u001b[0;32m-> 3229\u001b[0;31m             raise InvalidIndexError('Reindexing only valid with uniquely'\n\u001b[0m\u001b[1;32m   3230\u001b[0m                                     ' valued Index objects')\n\u001b[1;32m   3231\u001b[0m \u001b[0;34m\u001b[0m\u001b[0m\n",
      "\u001b[0;31mInvalidIndexError\u001b[0m: Reindexing only valid with uniquely valued Index objects"
     ]
    }
   ],
   "source": [
    "for row in range(len(gpx_df)):\n",
    "    \n",
    "    sensor_id = get_polution(gpx_df.iloc[row])\n",
    "    df_sub = df.loc[df['sensor_id'] == sensor_id]\n",
    "    ts = gpx_df.iloc[row, 3].to_pydatetime().strftime(\"%Y-%m-%d %H:%M:%S\")\n",
    "    newrow = df_sub.iloc[df_sub.index.get_loc(ts, method='nearest')]\n",
    "    print(newrow['date'])\n",
    "    print(newrow['pm2.5'])\n",
    "    "
   ]
  },
  {
   "cell_type": "code",
   "execution_count": 132,
   "metadata": {},
   "outputs": [
    {
     "data": {
      "text/html": [
       "<div>\n",
       "<style scoped>\n",
       "    .dataframe tbody tr th:only-of-type {\n",
       "        vertical-align: middle;\n",
       "    }\n",
       "\n",
       "    .dataframe tbody tr th {\n",
       "        vertical-align: top;\n",
       "    }\n",
       "\n",
       "    .dataframe thead th {\n",
       "        text-align: right;\n",
       "    }\n",
       "</style>\n",
       "<table border=\"1\" class=\"dataframe\">\n",
       "  <thead>\n",
       "    <tr style=\"text-align: right;\">\n",
       "      <th></th>\n",
       "      <th>Elevation</th>\n",
       "      <th>Latitude</th>\n",
       "      <th>Longitude</th>\n",
       "      <th>Timestamp</th>\n",
       "    </tr>\n",
       "  </thead>\n",
       "  <tbody>\n",
       "    <tr>\n",
       "      <th>0</th>\n",
       "      <td>24.23</td>\n",
       "      <td>50.872414</td>\n",
       "      <td>4.689531</td>\n",
       "      <td>2018-05-28 20:00:00</td>\n",
       "    </tr>\n",
       "    <tr>\n",
       "      <th>1</th>\n",
       "      <td>24.23</td>\n",
       "      <td>50.872394</td>\n",
       "      <td>4.689573</td>\n",
       "      <td>2018-05-28 20:00:00</td>\n",
       "    </tr>\n",
       "    <tr>\n",
       "      <th>2</th>\n",
       "      <td>24.23</td>\n",
       "      <td>50.872374</td>\n",
       "      <td>4.689615</td>\n",
       "      <td>2018-05-28 20:00:01</td>\n",
       "    </tr>\n",
       "    <tr>\n",
       "      <th>3</th>\n",
       "      <td>24.23</td>\n",
       "      <td>50.872354</td>\n",
       "      <td>4.689656</td>\n",
       "      <td>2018-05-28 20:00:02</td>\n",
       "    </tr>\n",
       "    <tr>\n",
       "      <th>4</th>\n",
       "      <td>24.23</td>\n",
       "      <td>50.872334</td>\n",
       "      <td>4.689698</td>\n",
       "      <td>2018-05-28 20:00:03</td>\n",
       "    </tr>\n",
       "    <tr>\n",
       "      <th>5</th>\n",
       "      <td>24.23</td>\n",
       "      <td>50.872314</td>\n",
       "      <td>4.689739</td>\n",
       "      <td>2018-05-28 20:00:05</td>\n",
       "    </tr>\n",
       "    <tr>\n",
       "      <th>6</th>\n",
       "      <td>24.23</td>\n",
       "      <td>50.872294</td>\n",
       "      <td>4.689781</td>\n",
       "      <td>2018-05-28 20:00:06</td>\n",
       "    </tr>\n",
       "    <tr>\n",
       "      <th>7</th>\n",
       "      <td>24.23</td>\n",
       "      <td>50.872274</td>\n",
       "      <td>4.689822</td>\n",
       "      <td>2018-05-28 20:00:07</td>\n",
       "    </tr>\n",
       "    <tr>\n",
       "      <th>8</th>\n",
       "      <td>24.23</td>\n",
       "      <td>50.872254</td>\n",
       "      <td>4.689864</td>\n",
       "      <td>2018-05-28 20:00:09</td>\n",
       "    </tr>\n",
       "    <tr>\n",
       "      <th>9</th>\n",
       "      <td>24.23</td>\n",
       "      <td>50.872234</td>\n",
       "      <td>4.689906</td>\n",
       "      <td>2018-05-28 20:00:10</td>\n",
       "    </tr>\n",
       "    <tr>\n",
       "      <th>10</th>\n",
       "      <td>24.23</td>\n",
       "      <td>50.872215</td>\n",
       "      <td>4.689947</td>\n",
       "      <td>2018-05-28 20:00:11</td>\n",
       "    </tr>\n",
       "    <tr>\n",
       "      <th>11</th>\n",
       "      <td>24.23</td>\n",
       "      <td>50.872195</td>\n",
       "      <td>4.689989</td>\n",
       "      <td>2018-05-28 20:00:13</td>\n",
       "    </tr>\n",
       "    <tr>\n",
       "      <th>12</th>\n",
       "      <td>24.23</td>\n",
       "      <td>50.872175</td>\n",
       "      <td>4.690030</td>\n",
       "      <td>2018-05-28 20:00:14</td>\n",
       "    </tr>\n",
       "    <tr>\n",
       "      <th>13</th>\n",
       "      <td>24.23</td>\n",
       "      <td>50.872155</td>\n",
       "      <td>4.690072</td>\n",
       "      <td>2018-05-28 20:00:15</td>\n",
       "    </tr>\n",
       "    <tr>\n",
       "      <th>14</th>\n",
       "      <td>24.23</td>\n",
       "      <td>50.872135</td>\n",
       "      <td>4.690113</td>\n",
       "      <td>2018-05-28 20:00:17</td>\n",
       "    </tr>\n",
       "    <tr>\n",
       "      <th>15</th>\n",
       "      <td>24.23</td>\n",
       "      <td>50.872115</td>\n",
       "      <td>4.690155</td>\n",
       "      <td>2018-05-28 20:00:18</td>\n",
       "    </tr>\n",
       "    <tr>\n",
       "      <th>16</th>\n",
       "      <td>24.23</td>\n",
       "      <td>50.872095</td>\n",
       "      <td>4.690196</td>\n",
       "      <td>2018-05-28 20:00:19</td>\n",
       "    </tr>\n",
       "    <tr>\n",
       "      <th>17</th>\n",
       "      <td>24.23</td>\n",
       "      <td>50.872075</td>\n",
       "      <td>4.690238</td>\n",
       "      <td>2018-05-28 20:00:21</td>\n",
       "    </tr>\n",
       "    <tr>\n",
       "      <th>18</th>\n",
       "      <td>24.23</td>\n",
       "      <td>50.872056</td>\n",
       "      <td>4.690280</td>\n",
       "      <td>2018-05-28 20:00:22</td>\n",
       "    </tr>\n",
       "    <tr>\n",
       "      <th>19</th>\n",
       "      <td>24.23</td>\n",
       "      <td>50.872036</td>\n",
       "      <td>4.690321</td>\n",
       "      <td>2018-05-28 20:00:23</td>\n",
       "    </tr>\n",
       "    <tr>\n",
       "      <th>20</th>\n",
       "      <td>24.23</td>\n",
       "      <td>50.872016</td>\n",
       "      <td>4.690363</td>\n",
       "      <td>2018-05-28 20:00:25</td>\n",
       "    </tr>\n",
       "    <tr>\n",
       "      <th>21</th>\n",
       "      <td>24.23</td>\n",
       "      <td>50.871996</td>\n",
       "      <td>4.690404</td>\n",
       "      <td>2018-05-28 20:00:26</td>\n",
       "    </tr>\n",
       "    <tr>\n",
       "      <th>22</th>\n",
       "      <td>24.23</td>\n",
       "      <td>50.871976</td>\n",
       "      <td>4.690446</td>\n",
       "      <td>2018-05-28 20:00:27</td>\n",
       "    </tr>\n",
       "    <tr>\n",
       "      <th>23</th>\n",
       "      <td>24.23</td>\n",
       "      <td>50.871956</td>\n",
       "      <td>4.690487</td>\n",
       "      <td>2018-05-28 20:00:29</td>\n",
       "    </tr>\n",
       "    <tr>\n",
       "      <th>24</th>\n",
       "      <td>24.23</td>\n",
       "      <td>50.871936</td>\n",
       "      <td>4.690529</td>\n",
       "      <td>2018-05-28 20:00:30</td>\n",
       "    </tr>\n",
       "    <tr>\n",
       "      <th>25</th>\n",
       "      <td>24.23</td>\n",
       "      <td>50.871916</td>\n",
       "      <td>4.690571</td>\n",
       "      <td>2018-05-28 20:00:31</td>\n",
       "    </tr>\n",
       "    <tr>\n",
       "      <th>26</th>\n",
       "      <td>24.23</td>\n",
       "      <td>50.871896</td>\n",
       "      <td>4.690612</td>\n",
       "      <td>2018-05-28 20:00:32</td>\n",
       "    </tr>\n",
       "    <tr>\n",
       "      <th>27</th>\n",
       "      <td>24.23</td>\n",
       "      <td>50.871876</td>\n",
       "      <td>4.690654</td>\n",
       "      <td>2018-05-28 20:00:34</td>\n",
       "    </tr>\n",
       "    <tr>\n",
       "      <th>28</th>\n",
       "      <td>24.23</td>\n",
       "      <td>50.871857</td>\n",
       "      <td>4.690695</td>\n",
       "      <td>2018-05-28 20:00:35</td>\n",
       "    </tr>\n",
       "    <tr>\n",
       "      <th>29</th>\n",
       "      <td>24.23</td>\n",
       "      <td>50.871837</td>\n",
       "      <td>4.690737</td>\n",
       "      <td>2018-05-28 20:00:36</td>\n",
       "    </tr>\n",
       "    <tr>\n",
       "      <th>...</th>\n",
       "      <td>...</td>\n",
       "      <td>...</td>\n",
       "      <td>...</td>\n",
       "      <td>...</td>\n",
       "    </tr>\n",
       "    <tr>\n",
       "      <th>2488</th>\n",
       "      <td>23.16</td>\n",
       "      <td>50.868867</td>\n",
       "      <td>4.697119</td>\n",
       "      <td>2018-05-28 20:48:48</td>\n",
       "    </tr>\n",
       "    <tr>\n",
       "      <th>2489</th>\n",
       "      <td>23.16</td>\n",
       "      <td>50.868849</td>\n",
       "      <td>4.697159</td>\n",
       "      <td>2018-05-28 20:48:49</td>\n",
       "    </tr>\n",
       "    <tr>\n",
       "      <th>2490</th>\n",
       "      <td>23.16</td>\n",
       "      <td>50.868831</td>\n",
       "      <td>4.697200</td>\n",
       "      <td>2018-05-28 20:48:51</td>\n",
       "    </tr>\n",
       "    <tr>\n",
       "      <th>2491</th>\n",
       "      <td>23.16</td>\n",
       "      <td>50.868813</td>\n",
       "      <td>4.697240</td>\n",
       "      <td>2018-05-28 20:48:52</td>\n",
       "    </tr>\n",
       "    <tr>\n",
       "      <th>2492</th>\n",
       "      <td>23.16</td>\n",
       "      <td>50.868795</td>\n",
       "      <td>4.697280</td>\n",
       "      <td>2018-05-28 20:48:53</td>\n",
       "    </tr>\n",
       "    <tr>\n",
       "      <th>2493</th>\n",
       "      <td>23.16</td>\n",
       "      <td>50.868778</td>\n",
       "      <td>4.697321</td>\n",
       "      <td>2018-05-28 20:48:54</td>\n",
       "    </tr>\n",
       "    <tr>\n",
       "      <th>2494</th>\n",
       "      <td>23.16</td>\n",
       "      <td>50.868760</td>\n",
       "      <td>4.697361</td>\n",
       "      <td>2018-05-28 20:48:56</td>\n",
       "    </tr>\n",
       "    <tr>\n",
       "      <th>2495</th>\n",
       "      <td>23.16</td>\n",
       "      <td>50.868742</td>\n",
       "      <td>4.697401</td>\n",
       "      <td>2018-05-28 20:48:57</td>\n",
       "    </tr>\n",
       "    <tr>\n",
       "      <th>2496</th>\n",
       "      <td>23.16</td>\n",
       "      <td>50.868724</td>\n",
       "      <td>4.697441</td>\n",
       "      <td>2018-05-28 20:48:58</td>\n",
       "    </tr>\n",
       "    <tr>\n",
       "      <th>2497</th>\n",
       "      <td>23.16</td>\n",
       "      <td>50.868707</td>\n",
       "      <td>4.697481</td>\n",
       "      <td>2018-05-28 20:48:59</td>\n",
       "    </tr>\n",
       "    <tr>\n",
       "      <th>2498</th>\n",
       "      <td>23.16</td>\n",
       "      <td>50.868689</td>\n",
       "      <td>4.697522</td>\n",
       "      <td>2018-05-28 20:49:01</td>\n",
       "    </tr>\n",
       "    <tr>\n",
       "      <th>2499</th>\n",
       "      <td>23.16</td>\n",
       "      <td>50.868671</td>\n",
       "      <td>4.697562</td>\n",
       "      <td>2018-05-28 20:49:02</td>\n",
       "    </tr>\n",
       "    <tr>\n",
       "      <th>2500</th>\n",
       "      <td>23.16</td>\n",
       "      <td>50.868653</td>\n",
       "      <td>4.697602</td>\n",
       "      <td>2018-05-28 20:49:03</td>\n",
       "    </tr>\n",
       "    <tr>\n",
       "      <th>2501</th>\n",
       "      <td>23.16</td>\n",
       "      <td>50.868635</td>\n",
       "      <td>4.697642</td>\n",
       "      <td>2018-05-28 20:49:04</td>\n",
       "    </tr>\n",
       "    <tr>\n",
       "      <th>2502</th>\n",
       "      <td>23.16</td>\n",
       "      <td>50.868618</td>\n",
       "      <td>4.697683</td>\n",
       "      <td>2018-05-28 20:49:06</td>\n",
       "    </tr>\n",
       "    <tr>\n",
       "      <th>2503</th>\n",
       "      <td>23.16</td>\n",
       "      <td>50.868600</td>\n",
       "      <td>4.697723</td>\n",
       "      <td>2018-05-28 20:49:07</td>\n",
       "    </tr>\n",
       "    <tr>\n",
       "      <th>2504</th>\n",
       "      <td>23.16</td>\n",
       "      <td>50.868582</td>\n",
       "      <td>4.697763</td>\n",
       "      <td>2018-05-28 20:49:08</td>\n",
       "    </tr>\n",
       "    <tr>\n",
       "      <th>2505</th>\n",
       "      <td>23.16</td>\n",
       "      <td>50.868564</td>\n",
       "      <td>4.697803</td>\n",
       "      <td>2018-05-28 20:49:09</td>\n",
       "    </tr>\n",
       "    <tr>\n",
       "      <th>2506</th>\n",
       "      <td>23.16</td>\n",
       "      <td>50.868547</td>\n",
       "      <td>4.697844</td>\n",
       "      <td>2018-05-28 20:49:11</td>\n",
       "    </tr>\n",
       "    <tr>\n",
       "      <th>2507</th>\n",
       "      <td>23.16</td>\n",
       "      <td>50.868529</td>\n",
       "      <td>4.697884</td>\n",
       "      <td>2018-05-28 20:49:12</td>\n",
       "    </tr>\n",
       "    <tr>\n",
       "      <th>2508</th>\n",
       "      <td>23.16</td>\n",
       "      <td>50.868511</td>\n",
       "      <td>4.697924</td>\n",
       "      <td>2018-05-28 20:49:13</td>\n",
       "    </tr>\n",
       "    <tr>\n",
       "      <th>2509</th>\n",
       "      <td>23.16</td>\n",
       "      <td>50.868493</td>\n",
       "      <td>4.697964</td>\n",
       "      <td>2018-05-28 20:49:14</td>\n",
       "    </tr>\n",
       "    <tr>\n",
       "      <th>2510</th>\n",
       "      <td>23.16</td>\n",
       "      <td>50.868476</td>\n",
       "      <td>4.698004</td>\n",
       "      <td>2018-05-28 20:49:16</td>\n",
       "    </tr>\n",
       "    <tr>\n",
       "      <th>2511</th>\n",
       "      <td>23.16</td>\n",
       "      <td>50.868458</td>\n",
       "      <td>4.698045</td>\n",
       "      <td>2018-05-28 20:49:17</td>\n",
       "    </tr>\n",
       "    <tr>\n",
       "      <th>2512</th>\n",
       "      <td>23.16</td>\n",
       "      <td>50.868440</td>\n",
       "      <td>4.698085</td>\n",
       "      <td>2018-05-28 20:49:18</td>\n",
       "    </tr>\n",
       "    <tr>\n",
       "      <th>2513</th>\n",
       "      <td>23.16</td>\n",
       "      <td>50.868422</td>\n",
       "      <td>4.698125</td>\n",
       "      <td>2018-05-28 20:49:19</td>\n",
       "    </tr>\n",
       "    <tr>\n",
       "      <th>2514</th>\n",
       "      <td>23.16</td>\n",
       "      <td>50.868404</td>\n",
       "      <td>4.698165</td>\n",
       "      <td>2018-05-28 20:49:21</td>\n",
       "    </tr>\n",
       "    <tr>\n",
       "      <th>2515</th>\n",
       "      <td>23.16</td>\n",
       "      <td>50.868387</td>\n",
       "      <td>4.698206</td>\n",
       "      <td>2018-05-28 20:49:22</td>\n",
       "    </tr>\n",
       "    <tr>\n",
       "      <th>2516</th>\n",
       "      <td>23.16</td>\n",
       "      <td>50.868369</td>\n",
       "      <td>4.698246</td>\n",
       "      <td>2018-05-28 20:49:23</td>\n",
       "    </tr>\n",
       "    <tr>\n",
       "      <th>2517</th>\n",
       "      <td>23.16</td>\n",
       "      <td>50.868351</td>\n",
       "      <td>4.698286</td>\n",
       "      <td>2018-05-28 20:49:24</td>\n",
       "    </tr>\n",
       "  </tbody>\n",
       "</table>\n",
       "<p>2518 rows × 4 columns</p>\n",
       "</div>"
      ],
      "text/plain": [
       "      Elevation   Latitude  Longitude           Timestamp\n",
       "0         24.23  50.872414   4.689531 2018-05-28 20:00:00\n",
       "1         24.23  50.872394   4.689573 2018-05-28 20:00:00\n",
       "2         24.23  50.872374   4.689615 2018-05-28 20:00:01\n",
       "3         24.23  50.872354   4.689656 2018-05-28 20:00:02\n",
       "4         24.23  50.872334   4.689698 2018-05-28 20:00:03\n",
       "5         24.23  50.872314   4.689739 2018-05-28 20:00:05\n",
       "6         24.23  50.872294   4.689781 2018-05-28 20:00:06\n",
       "7         24.23  50.872274   4.689822 2018-05-28 20:00:07\n",
       "8         24.23  50.872254   4.689864 2018-05-28 20:00:09\n",
       "9         24.23  50.872234   4.689906 2018-05-28 20:00:10\n",
       "10        24.23  50.872215   4.689947 2018-05-28 20:00:11\n",
       "11        24.23  50.872195   4.689989 2018-05-28 20:00:13\n",
       "12        24.23  50.872175   4.690030 2018-05-28 20:00:14\n",
       "13        24.23  50.872155   4.690072 2018-05-28 20:00:15\n",
       "14        24.23  50.872135   4.690113 2018-05-28 20:00:17\n",
       "15        24.23  50.872115   4.690155 2018-05-28 20:00:18\n",
       "16        24.23  50.872095   4.690196 2018-05-28 20:00:19\n",
       "17        24.23  50.872075   4.690238 2018-05-28 20:00:21\n",
       "18        24.23  50.872056   4.690280 2018-05-28 20:00:22\n",
       "19        24.23  50.872036   4.690321 2018-05-28 20:00:23\n",
       "20        24.23  50.872016   4.690363 2018-05-28 20:00:25\n",
       "21        24.23  50.871996   4.690404 2018-05-28 20:00:26\n",
       "22        24.23  50.871976   4.690446 2018-05-28 20:00:27\n",
       "23        24.23  50.871956   4.690487 2018-05-28 20:00:29\n",
       "24        24.23  50.871936   4.690529 2018-05-28 20:00:30\n",
       "25        24.23  50.871916   4.690571 2018-05-28 20:00:31\n",
       "26        24.23  50.871896   4.690612 2018-05-28 20:00:32\n",
       "27        24.23  50.871876   4.690654 2018-05-28 20:00:34\n",
       "28        24.23  50.871857   4.690695 2018-05-28 20:00:35\n",
       "29        24.23  50.871837   4.690737 2018-05-28 20:00:36\n",
       "...         ...        ...        ...                 ...\n",
       "2488      23.16  50.868867   4.697119 2018-05-28 20:48:48\n",
       "2489      23.16  50.868849   4.697159 2018-05-28 20:48:49\n",
       "2490      23.16  50.868831   4.697200 2018-05-28 20:48:51\n",
       "2491      23.16  50.868813   4.697240 2018-05-28 20:48:52\n",
       "2492      23.16  50.868795   4.697280 2018-05-28 20:48:53\n",
       "2493      23.16  50.868778   4.697321 2018-05-28 20:48:54\n",
       "2494      23.16  50.868760   4.697361 2018-05-28 20:48:56\n",
       "2495      23.16  50.868742   4.697401 2018-05-28 20:48:57\n",
       "2496      23.16  50.868724   4.697441 2018-05-28 20:48:58\n",
       "2497      23.16  50.868707   4.697481 2018-05-28 20:48:59\n",
       "2498      23.16  50.868689   4.697522 2018-05-28 20:49:01\n",
       "2499      23.16  50.868671   4.697562 2018-05-28 20:49:02\n",
       "2500      23.16  50.868653   4.697602 2018-05-28 20:49:03\n",
       "2501      23.16  50.868635   4.697642 2018-05-28 20:49:04\n",
       "2502      23.16  50.868618   4.697683 2018-05-28 20:49:06\n",
       "2503      23.16  50.868600   4.697723 2018-05-28 20:49:07\n",
       "2504      23.16  50.868582   4.697763 2018-05-28 20:49:08\n",
       "2505      23.16  50.868564   4.697803 2018-05-28 20:49:09\n",
       "2506      23.16  50.868547   4.697844 2018-05-28 20:49:11\n",
       "2507      23.16  50.868529   4.697884 2018-05-28 20:49:12\n",
       "2508      23.16  50.868511   4.697924 2018-05-28 20:49:13\n",
       "2509      23.16  50.868493   4.697964 2018-05-28 20:49:14\n",
       "2510      23.16  50.868476   4.698004 2018-05-28 20:49:16\n",
       "2511      23.16  50.868458   4.698045 2018-05-28 20:49:17\n",
       "2512      23.16  50.868440   4.698085 2018-05-28 20:49:18\n",
       "2513      23.16  50.868422   4.698125 2018-05-28 20:49:19\n",
       "2514      23.16  50.868404   4.698165 2018-05-28 20:49:21\n",
       "2515      23.16  50.868387   4.698206 2018-05-28 20:49:22\n",
       "2516      23.16  50.868369   4.698246 2018-05-28 20:49:23\n",
       "2517      23.16  50.868351   4.698286 2018-05-28 20:49:24\n",
       "\n",
       "[2518 rows x 4 columns]"
      ]
     },
     "execution_count": 132,
     "metadata": {},
     "output_type": "execute_result"
    }
   ],
   "source": [
    "gpx_df"
   ]
  },
  {
   "cell_type": "markdown",
   "metadata": {},
   "source": [
    "# 6. Lessons learned\n",
    "## 6.1 What i learned \n",
    "- Time is an important variable for PM2.5\n",
    "- Location doesnt seem to be an important variable for predicting PM2.5\n",
    "- aggregated sensor data from leuvenair seem to follow the same patterns as the option sensor data. So to get a high level overview of the air quality (PM2.5) in leuven, leuvenair data should be ok. \n",
    "\n",
    "## 6.2 Advice for the runners\n",
    "- Best time to run is between 12:00 -> 18:00 (according to the PM2.5 data)\n",
    "- if you want to find a future run buddy: run in parks\n",
    "\n",
    "## 6.3 Future data recommendations\n",
    "- More sensors would be nice, also at popular places such as parks, busy highways and tourist places\n",
    "- Ozone sensor  data should be captured. High ozone concentrations seem to occur during summer and when its warm -> more runners during summer outside... Maybe geolocation for this part of air polution is more important than PM2.5\n",
    "\n",
    "\n",
    "## 6.4 Things you could do with this strava data\n",
    "- The city of leuven could get data from people who run or cycle in Leuven and could make data driven decisions with this:\n",
    "- To give 1 example: when it's dark and theres a place where a lot of people run: is there a lot of street lights?"
   ]
  },
  {
   "cell_type": "code",
   "execution_count": null,
   "metadata": {},
   "outputs": [],
   "source": []
  }
 ],
 "metadata": {
  "kernelspec": {
   "display_name": "Python 3",
   "language": "python",
   "name": "python3"
  },
  "language_info": {
   "codemirror_mode": {
    "name": "ipython",
    "version": 3
   },
   "file_extension": ".py",
   "mimetype": "text/x-python",
   "name": "python",
   "nbconvert_exporter": "python",
   "pygments_lexer": "ipython3",
   "version": "3.6.5"
  }
 },
 "nbformat": 4,
 "nbformat_minor": 2
}
